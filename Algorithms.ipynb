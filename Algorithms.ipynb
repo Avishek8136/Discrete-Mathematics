{
  "nbformat": 4,
  "nbformat_minor": 0,
  "metadata": {
    "colab": {
      "provenance": []
    },
    "kernelspec": {
      "name": "python3",
      "display_name": "Python 3"
    },
    "language_info": {
      "name": "python"
    }
  },
  "cells": [
    {
      "cell_type": "markdown",
      "source": [
        "**Question 1:**\n",
        "\n",
        "Do the recursive implementation of following in python and print the result after each recursive call.\n",
        "\n",
        "a. Factorial Function"
      ],
      "metadata": {
        "id": "Xuos5ULGVNmP"
      }
    },
    {
      "cell_type": "code",
      "execution_count": null,
      "metadata": {
        "colab": {
          "base_uri": "https://localhost:8080/"
        },
        "id": "42XOJA3PS9nh",
        "outputId": "ea1887f4-091d-427f-9028-f850a56c8532"
      },
      "outputs": [
        {
          "output_type": "stream",
          "name": "stdout",
          "text": [
            "Enter a number3\n",
            "Factorial is  6\n"
          ]
        }
      ],
      "source": [
        "def factorial(n):\n",
        "  if (n==0):\n",
        "    return 1\n",
        "  else:\n",
        "    return n*factorial(n-1)\n",
        "\n",
        "n=int(input(\"Enter a number \"))\n",
        "print(\"Factorial is \",factorial(n))"
      ]
    },
    {
      "cell_type": "markdown",
      "source": [
        "b. Power function"
      ],
      "metadata": {
        "id": "rZAlbu2BVVPi"
      }
    },
    {
      "cell_type": "code",
      "source": [
        "def power(n,p):\n",
        "  if (p==0):\n",
        "    return 1\n",
        "  else:\n",
        "    return n*power(n,p-1)\n",
        "\n",
        "\n",
        "n=int(input(\"Enter a number \"))\n",
        "p=int(input(\"Enter its power \"))\n",
        "print(\"power is \",power(n,p))\n"
      ],
      "metadata": {
        "colab": {
          "base_uri": "https://localhost:8080/"
        },
        "id": "ai-7qtYdVYk5",
        "outputId": "002d5719-09d7-4328-f11e-2f4c05e45f85"
      },
      "execution_count": null,
      "outputs": [
        {
          "output_type": "stream",
          "name": "stdout",
          "text": [
            "Enter a number 2\n",
            "Enter its power 5\n",
            "power is  32\n"
          ]
        }
      ]
    },
    {
      "cell_type": "markdown",
      "source": [
        "c. arithmetic sequences with first term a1=a and common difference d"
      ],
      "metadata": {
        "id": "L7QY7vj-WxNt"
      }
    },
    {
      "cell_type": "code",
      "source": [
        "def arithmetic(n,a,d):\n",
        "  if (n==1):\n",
        "    return a\n",
        "  else:\n",
        "    return d+arithmetic(n-1,a,d)\n",
        "\n",
        "n=int(input(\"Enter n \"))\n",
        "a=int(input(\"Enter a \"))\n",
        "d=int(input(\"Enter d \"))\n",
        "print(\"arithmetic sequence is \",arithmetic(n,a,d))\n"
      ],
      "metadata": {
        "colab": {
          "base_uri": "https://localhost:8080/"
        },
        "id": "JdFXzVbuWzHG",
        "outputId": "aba7dfef-5f42-4d38-e4d4-8a44bbdd92e1"
      },
      "execution_count": null,
      "outputs": [
        {
          "output_type": "stream",
          "name": "stdout",
          "text": [
            "Enter n 5\n",
            "Enter a 3\n",
            "Enter d 2\n",
            "arithmetic sequence is  11\n"
          ]
        }
      ]
    },
    {
      "cell_type": "markdown",
      "source": [
        "d. Fibonacci Series"
      ],
      "metadata": {
        "id": "Wz7ZfKRIXhKp"
      }
    },
    {
      "cell_type": "code",
      "source": [
        "def fibonacci(n):\n",
        "  if (n==1):\n",
        "    return 1\n",
        "  elif(n==0):\n",
        "    return 0\n",
        "  else:\n",
        "    return (fibonacci(n-1)+fibonacci(n-2))\n",
        "\n",
        "n=int(input(\"Enter n \"))\n",
        "print(fibonacci(n))\n"
      ],
      "metadata": {
        "colab": {
          "base_uri": "https://localhost:8080/"
        },
        "id": "upZ1bCMfXjue",
        "outputId": "ff9088da-991c-413e-d48d-d13d24d5cdc0"
      },
      "execution_count": null,
      "outputs": [
        {
          "output_type": "stream",
          "name": "stdout",
          "text": [
            "Enter n 4\n",
            "3\n"
          ]
        }
      ]
    },
    {
      "cell_type": "markdown",
      "source": [
        "e. Towers of Hanoi"
      ],
      "metadata": {
        "id": "p-DHo6B6Y2bF"
      }
    },
    {
      "cell_type": "code",
      "source": [
        "def Towers_Of_Hanoi(numdisks, frm_disc, to_disc, aux_disc):\n",
        "  # When the number of discs is one, we can define the base case. Simply move the\n",
        "  # single disc from source to target and return in this scenario.\n",
        "    if numdisks == 1:\n",
        "        print(\"Move disk [1] from rod [\",\n",
        "              frm_disc, \"] to rod {\", to_disc, '}')\n",
        "        return\n",
        "    # Now, use the target as the auxiliary to\n",
        "    # shift the remaining n-1 discs from source to auxiliary.\n",
        "    Towers_Of_Hanoi(numdisks-1, frm_disc, aux_disc, to_disc)\n",
        "    # The remaining 1 disc then moves from source to target.\n",
        "    # Use the source as the auxiliary to move the n-1 discs on the auxiliary to the target.\n",
        "    print(\"Move disk [\"+str(numdisks) + \"] from rod [\",\n",
        "          str(frm_disc)+\" ] to rod {\", to_disc, '}')\n",
        "    Towers_Of_Hanoi(numdisks-1, aux_disc, to_disc, frm_disc)\n",
        "# Give the number of discs as user input using\n",
        "# the int(input()) function which converts the string to an integer.\n",
        "# Store it in a variable.\n",
        "numdisks = int(input('Enter some random number of disks = '))\n",
        "# passing the given number of disks as argument to the towers of hanoi recursive function .\n",
        "Towers_Of_Hanoi(numdisks, 'A', 'B', 'C')"
      ],
      "metadata": {
        "colab": {
          "base_uri": "https://localhost:8080/"
        },
        "id": "mBpyvHmCY3MG",
        "outputId": "d2c4e2a6-52b4-4858-a2b5-9236435dd42e"
      },
      "execution_count": null,
      "outputs": [
        {
          "output_type": "stream",
          "name": "stdout",
          "text": [
            "Enter some random number of disks = 3\n",
            "Move disk [1] from rod [ A ] to rod { B }\n",
            "Move disk [2] from rod [ A ] to rod { C }\n",
            "Move disk [1] from rod [ B ] to rod { C }\n",
            "Move disk [3] from rod [ A ] to rod { B }\n",
            "Move disk [1] from rod [ C ] to rod { A }\n",
            "Move disk [2] from rod [ C ] to rod { B }\n",
            "Move disk [1] from rod [ A ] to rod { B }\n"
          ]
        }
      ]
    },
    {
      "cell_type": "markdown",
      "source": [
        "**Question 2:**\n",
        "\n",
        "Write a python program to count the how many numbers between 1 and 1000, including both, are\n",
        "divisible by 3 or 4? List those numbers."
      ],
      "metadata": {
        "id": "MXCulc5ncTQw"
      }
    },
    {
      "cell_type": "code",
      "source": [
        "def div(n,c):\n",
        "  if(n<=956):\n",
        "    if((n%4==0)or(n%3==0)):\n",
        "      c=c+1\n",
        "      print(n,end=\" \")\n",
        "    div(n+1,c)\n",
        "  else:\n",
        "    print()\n",
        "    print(c)\n",
        "\n",
        "n=1\n",
        "c=0\n",
        "div(n,c)"
      ],
      "metadata": {
        "colab": {
          "base_uri": "https://localhost:8080/"
        },
        "id": "WhmiaWbycTBG",
        "outputId": "76391e0e-212c-4d42-dc36-91b069f11f00"
      },
      "execution_count": null,
      "outputs": [
        {
          "output_type": "stream",
          "name": "stdout",
          "text": [
            "3 4 6 8 9 12 15 16 18 20 21 24 27 28 30 32 33 36 39 40 42 44 45 48 51 52 54 56 57 60 63 64 66 68 69 72 75 76 78 80 81 84 87 88 90 92 93 96 99 100 102 104 105 108 111 112 114 116 117 120 123 124 126 128 129 132 135 136 138 140 141 144 147 148 150 152 153 156 159 160 162 164 165 168 171 172 174 176 177 180 183 184 186 188 189 192 195 196 198 200 201 204 207 208 210 212 213 216 219 220 222 224 225 228 231 232 234 236 237 240 243 244 246 248 249 252 255 256 258 260 261 264 267 268 270 272 273 276 279 280 282 284 285 288 291 292 294 296 297 300 303 304 306 308 309 312 315 316 318 320 321 324 327 328 330 332 333 336 339 340 342 344 345 348 351 352 354 356 357 360 363 364 366 368 369 372 375 376 378 380 381 384 387 388 390 392 393 396 399 400 402 404 405 408 411 412 414 416 417 420 423 424 426 428 429 432 435 436 438 440 441 444 447 448 450 452 453 456 459 460 462 464 465 468 471 472 474 476 477 480 483 484 486 488 489 492 495 496 498 500 501 504 507 508 510 512 513 516 519 520 522 524 525 528 531 532 534 536 537 540 543 544 546 548 549 552 555 556 558 560 561 564 567 568 570 572 573 576 579 580 582 584 585 588 591 592 594 596 597 600 603 604 606 608 609 612 615 616 618 620 621 624 627 628 630 632 633 636 639 640 642 644 645 648 651 652 654 656 657 660 663 664 666 668 669 672 675 676 678 680 681 684 687 688 690 692 693 696 699 700 702 704 705 708 711 712 714 716 717 720 723 724 726 728 729 732 735 736 738 740 741 744 747 748 750 752 753 756 759 760 762 764 765 768 771 772 774 776 777 780 783 784 786 788 789 792 795 796 798 800 801 804 807 808 810 812 813 816 819 820 822 824 825 828 831 832 834 836 837 840 843 844 846 848 849 852 855 856 858 860 861 864 867 868 870 872 873 876 879 880 882 884 885 888 891 892 894 896 897 900 903 904 906 908 909 912 915 916 918 920 921 924 927 928 930 932 933 936 939 940 942 944 945 948 951 952 954 956 \n",
            "478\n"
          ]
        }
      ]
    },
    {
      "cell_type": "code",
      "source": [
        "def div():\n",
        "  c=0\n",
        "  for i in range(1,1000):\n",
        "    if((i%4==0)or(i%3==0)):\n",
        "      c=c+1\n",
        "      print(i,end=\" \")\n",
        "  print()\n",
        "  print(c)\n",
        "\n",
        "div()"
      ],
      "metadata": {
        "colab": {
          "base_uri": "https://localhost:8080/"
        },
        "id": "wbMe38FdiMNs",
        "outputId": "8e65600a-9cf9-4db6-81f7-1d4e77e391a6"
      },
      "execution_count": null,
      "outputs": [
        {
          "output_type": "stream",
          "name": "stdout",
          "text": [
            "3 4 6 8 9 12 15 16 18 20 21 24 27 28 30 32 33 36 39 40 42 44 45 48 51 52 54 56 57 60 63 64 66 68 69 72 75 76 78 80 81 84 87 88 90 92 93 96 99 100 102 104 105 108 111 112 114 116 117 120 123 124 126 128 129 132 135 136 138 140 141 144 147 148 150 152 153 156 159 160 162 164 165 168 171 172 174 176 177 180 183 184 186 188 189 192 195 196 198 200 201 204 207 208 210 212 213 216 219 220 222 224 225 228 231 232 234 236 237 240 243 244 246 248 249 252 255 256 258 260 261 264 267 268 270 272 273 276 279 280 282 284 285 288 291 292 294 296 297 300 303 304 306 308 309 312 315 316 318 320 321 324 327 328 330 332 333 336 339 340 342 344 345 348 351 352 354 356 357 360 363 364 366 368 369 372 375 376 378 380 381 384 387 388 390 392 393 396 399 400 402 404 405 408 411 412 414 416 417 420 423 424 426 428 429 432 435 436 438 440 441 444 447 448 450 452 453 456 459 460 462 464 465 468 471 472 474 476 477 480 483 484 486 488 489 492 495 496 498 500 501 504 507 508 510 512 513 516 519 520 522 524 525 528 531 532 534 536 537 540 543 544 546 548 549 552 555 556 558 560 561 564 567 568 570 572 573 576 579 580 582 584 585 588 591 592 594 596 597 600 603 604 606 608 609 612 615 616 618 620 621 624 627 628 630 632 633 636 639 640 642 644 645 648 651 652 654 656 657 660 663 664 666 668 669 672 675 676 678 680 681 684 687 688 690 692 693 696 699 700 702 704 705 708 711 712 714 716 717 720 723 724 726 728 729 732 735 736 738 740 741 744 747 748 750 752 753 756 759 760 762 764 765 768 771 772 774 776 777 780 783 784 786 788 789 792 795 796 798 800 801 804 807 808 810 812 813 816 819 820 822 824 825 828 831 832 834 836 837 840 843 844 846 848 849 852 855 856 858 860 861 864 867 868 870 872 873 876 879 880 882 884 885 888 891 892 894 896 897 900 903 904 906 908 909 912 915 916 918 920 921 924 927 928 930 932 933 936 939 940 942 944 945 948 951 952 954 956 957 960 963 964 966 968 969 972 975 976 978 980 981 984 987 988 990 992 993 996 999 \n",
            "499\n"
          ]
        }
      ]
    },
    {
      "cell_type": "markdown",
      "source": [
        "**Question 3:**\n",
        "\n",
        "Given N prime numbers and a number M, count how many numbers from 1 to M are divisible by any\n",
        "of the N given prime numbers. (Apply Principle of inclusion exclusion)"
      ],
      "metadata": {
        "id": "o3IkLXw7dlya"
      }
    },
    {
      "cell_type": "code",
      "source": [
        "def prime(j):\n",
        "  c=1\n",
        "  for i in range(2,j-1):\n",
        "    if(j%i==0):\n",
        "      c=0\n",
        "      break\n",
        "  return c\n",
        "\n",
        "def divisibility(m,a):\n",
        "  c=0\n",
        "  for i in range(1,m):\n",
        "    for j in a:\n",
        "      if (prime(j)==1):\n",
        "        if(i%j==0):\n",
        "          c=c+1\n",
        "          break\n",
        "  return c\n",
        "\n",
        "\n",
        "n=int(input(\"Enter number of prime numbers \"))\n",
        "m=int(input(\"Enter limit \"))\n",
        "a=list()\n",
        "for i in range(n):\n",
        "  a.append(int(input(\"Enter the prime numbers \")))\n",
        "c=divisibility(m,a)\n",
        "print(c)"
      ],
      "metadata": {
        "colab": {
          "base_uri": "https://localhost:8080/"
        },
        "id": "6XNhUbWue4NM",
        "outputId": "dffa3b40-93fa-413c-9f6f-7bfcee519191"
      },
      "execution_count": null,
      "outputs": [
        {
          "output_type": "stream",
          "name": "stdout",
          "text": [
            "Enter number of prime numbers 2\n",
            "Enter limit 100\n",
            "Enter the prime numbers 3\n",
            "Enter the prime numbers 4\n",
            "33\n"
          ]
        }
      ]
    }
  ]
}