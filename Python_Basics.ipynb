{
  "nbformat": 4,
  "nbformat_minor": 0,
  "metadata": {
    "colab": {
      "provenance": []
    },
    "kernelspec": {
      "name": "python3",
      "display_name": "Python 3"
    },
    "language_info": {
      "name": "python"
    }
  },
  "cells": [
    {
      "cell_type": "markdown",
      "source": [
        "**Question 1:** Practice the usage of functions in python using following URLs.\n",
        "https://365datascience.com/tutorials/python-tutorials/python-functions/\n",
        "https://www.javatpoint.com/python-functions"
      ],
      "metadata": {
        "id": "1Q4BqhHj8fXG"
      }
    },
    {
      "cell_type": "code",
      "execution_count": null,
      "metadata": {
        "id": "kf3QMWkj8C85",
        "outputId": "6e692bfb-97a7-4f8b-e933-d5c45debcde3"
      },
      "outputs": [
        {
          "name": "stdout",
          "output_type": "stream",
          "text": [
            "hello world\n"
          ]
        }
      ],
      "source": [
        "def first():\n",
        "    print(\"hello world\")\n",
        "first()"
      ]
    },
    {
      "cell_type": "markdown",
      "metadata": {
        "id": "qfWx3Acy8C9A"
      },
      "source": [
        "Add using functions"
      ]
    },
    {
      "cell_type": "code",
      "execution_count": null,
      "metadata": {
        "id": "Byc1RWSi8C9D",
        "outputId": "f5aa96f6-026d-46a4-81ce-e83a957db587"
      },
      "outputs": [
        {
          "name": "stdout",
          "output_type": "stream",
          "text": [
            "30\n"
          ]
        }
      ],
      "source": [
        "def plus1(a,b):\n",
        "    k=a+b\n",
        "    print(k)\n",
        "plus1(10,20)"
      ]
    },
    {
      "cell_type": "markdown",
      "metadata": {
        "id": "lHwQVSva8C9F"
      },
      "source": [
        "Calculation with functions"
      ]
    },
    {
      "cell_type": "code",
      "execution_count": null,
      "metadata": {
        "id": "WKHiYif-8C9F",
        "outputId": "a73fc9be-2bda-4360-dbe8-86bfbbe887aa"
      },
      "outputs": [
        {
          "data": {
            "text/plain": [
              "(200, 250)"
            ]
          },
          "execution_count": 8,
          "metadata": {},
          "output_type": "execute_result"
        }
      ],
      "source": [
        "def wage(w_hours):\n",
        "    return w_hours*25\n",
        "def with_bonus(w_hours):\n",
        "    return wage(w_hours)+50\n",
        "\n",
        "print(wage(8),with_bonus(8))"
      ]
    },
    {
      "cell_type": "markdown",
      "metadata": {
        "id": "BnNTrAW_8C9H"
      },
      "source": [
        "Checking type"
      ]
    },
    {
      "cell_type": "code",
      "execution_count": null,
      "metadata": {
        "id": "tOvq6CR78C9H",
        "outputId": "8664700a-4179-49f0-fd8d-c3f25947dc79"
      },
      "outputs": [
        {
          "data": {
            "text/plain": [
              "int"
            ]
          },
          "execution_count": 11,
          "metadata": {},
          "output_type": "execute_result"
        }
      ],
      "source": [
        "type(30)"
      ]
    },
    {
      "cell_type": "code",
      "execution_count": null,
      "metadata": {
        "id": "i3sMPbVu8C9J",
        "outputId": "0cbe153a-19f9-44d6-b5e4-10ee8c7e626c"
      },
      "outputs": [
        {
          "data": {
            "text/plain": [
              "str"
            ]
          },
          "execution_count": 14,
          "metadata": {},
          "output_type": "execute_result"
        }
      ],
      "source": [
        "type(\"hello world\")"
      ]
    },
    {
      "cell_type": "markdown",
      "metadata": {
        "id": "ef9EVYbY8C9K"
      },
      "source": [
        "minimum function in pyhton"
      ]
    },
    {
      "cell_type": "code",
      "execution_count": null,
      "metadata": {
        "id": "fuU15HmA8C9L",
        "outputId": "a91d960b-84b4-4407-d8cc-60089f4c0513"
      },
      "outputs": [
        {
          "data": {
            "text/plain": [
              "4"
            ]
          },
          "execution_count": 15,
          "metadata": {},
          "output_type": "execute_result"
        }
      ],
      "source": [
        "min(845,4,545,4)"
      ]
    },
    {
      "cell_type": "markdown",
      "metadata": {
        "id": "iHpXHzbL8C9M"
      },
      "source": [
        "maximum function in python"
      ]
    },
    {
      "cell_type": "code",
      "execution_count": null,
      "metadata": {
        "id": "0j_HDT9u8C9M",
        "outputId": "ec9de8a1-5608-4cbb-e8c1-adbacfd851ba"
      },
      "outputs": [
        {
          "data": {
            "text/plain": [
              "666"
            ]
          },
          "execution_count": 16,
          "metadata": {},
          "output_type": "execute_result"
        }
      ],
      "source": [
        "max(67,75,5,66,7,666,5)"
      ]
    },
    {
      "cell_type": "code",
      "execution_count": null,
      "metadata": {
        "id": "YVXQAEV78C9N",
        "outputId": "1f593f0f-236a-46c3-b5ba-138c1fc287fb"
      },
      "outputs": [
        {
          "name": "stdout",
          "output_type": "stream",
          "text": [
            "1024\n",
            "1024\n"
          ]
        }
      ],
      "source": [
        "print(2**10)\n",
        "print(pow(2,10))"
      ]
    },
    {
      "cell_type": "code",
      "execution_count": null,
      "metadata": {
        "id": "IzuG4QiC8C9N",
        "outputId": "b5e8f481-70ec-4b13-b2a2-d0b782199503"
      },
      "outputs": [
        {
          "data": {
            "text/plain": [
              "11"
            ]
          },
          "execution_count": 18,
          "metadata": {},
          "output_type": "execute_result"
        }
      ],
      "source": [
        "len(\"mathematics\")"
      ]
    }
  ]
}