{
  "nbformat": 4,
  "nbformat_minor": 0,
  "metadata": {
    "colab": {
      "provenance": []
    },
    "kernelspec": {
      "name": "python3",
      "display_name": "Python 3"
    },
    "language_info": {
      "name": "python"
    }
  },
  "cells": [
    {
      "cell_type": "markdown",
      "source": [
        "**Practice 1:** Permutations using library function\n"
      ],
      "metadata": {
        "id": "6dQ3zBwASyMM"
      }
    },
    {
      "cell_type": "code",
      "source": [
        "from itertools import permutations\n",
        "perm=permutations([1,2,3])\n",
        "for l in list(perm):\n",
        "  print(l)"
      ],
      "metadata": {
        "colab": {
          "base_uri": "https://localhost:8080/"
        },
        "id": "DgVWJprwS8fw",
        "outputId": "ff53a159-cdf7-4ac7-9f45-cc0d47878624"
      },
      "execution_count": null,
      "outputs": [
        {
          "output_type": "stream",
          "name": "stdout",
          "text": [
            "(1, 2, 3)\n",
            "(1, 3, 2)\n",
            "(2, 1, 3)\n",
            "(2, 3, 1)\n",
            "(3, 1, 2)\n",
            "(3, 2, 1)\n"
          ]
        }
      ]
    },
    {
      "cell_type": "markdown",
      "source": [
        "**Practice 2:** Print permutation of given length"
      ],
      "metadata": {
        "id": "LU2hAni8TaQM"
      }
    },
    {
      "cell_type": "code",
      "source": [
        "perm=permutations([1,2,3],2)# r=2\n",
        "for i in list(perm):\n",
        "  print(i)"
      ],
      "metadata": {
        "colab": {
          "base_uri": "https://localhost:8080/"
        },
        "id": "LeUCI8rqTpCg",
        "outputId": "d43a6288-a83a-4682-a7fb-17cf0234d4c9"
      },
      "execution_count": null,
      "outputs": [
        {
          "output_type": "stream",
          "name": "stdout",
          "text": [
            "(1, 2)\n",
            "(1, 3)\n",
            "(2, 1)\n",
            "(2, 3)\n",
            "(3, 1)\n",
            "(3, 2)\n"
          ]
        }
      ]
    },
    {
      "cell_type": "markdown",
      "source": [
        "**Practice 3:** Print all combinations"
      ],
      "metadata": {
        "id": "u_9Bb5gdT6om"
      }
    },
    {
      "cell_type": "code",
      "source": [
        "from itertools import combinations\n",
        "comb=combinations([1,2,3],2)\n",
        "for i in list(comb):\n",
        "  print(i)\n",
        "comb=combinations([1,2,3],2)\n",
        "for i in list(comb):\n",
        "  print(i)"
      ],
      "metadata": {
        "colab": {
          "base_uri": "https://localhost:8080/"
        },
        "id": "dCWxMWrOUOw6",
        "outputId": "193875df-9c8d-4c74-b43b-b14de0466880"
      },
      "execution_count": null,
      "outputs": [
        {
          "output_type": "stream",
          "name": "stdout",
          "text": [
            "(1, 2)\n",
            "(1, 3)\n",
            "(2, 3)\n",
            "(1, 2)\n",
            "(1, 3)\n",
            "(2, 3)\n"
          ]
        }
      ]
    },
    {
      "cell_type": "markdown",
      "source": [
        "**Question:** Generate Pascal's Triangle."
      ],
      "metadata": {
        "id": "Aoldp4b1NeI-"
      }
    },
    {
      "cell_type": "code",
      "source": [
        "a=int(input(\"Enter number of rows \"))\n",
        "for i in range(a):\n",
        "  for j in range(i+1):\n",
        "    print(\"(\",i,j,\")\",end=\" \")\n",
        "  print()"
      ],
      "metadata": {
        "colab": {
          "base_uri": "https://localhost:8080/"
        },
        "id": "3x3R0tB2Wifp",
        "outputId": "4ffa6d57-20ae-4e01-d6c0-21441e68e7ba"
      },
      "execution_count": null,
      "outputs": [
        {
          "output_type": "stream",
          "name": "stdout",
          "text": [
            "Enter number of rows 3\n",
            "( 0 0 ) \n",
            "( 1 0 ) ( 1 1 ) \n",
            "( 2 0 ) ( 2 1 ) ( 2 2 ) \n"
          ]
        }
      ]
    },
    {
      "cell_type": "code",
      "execution_count": null,
      "metadata": {
        "colab": {
          "base_uri": "https://localhost:8080/"
        },
        "id": "KxXJU9-LNXpN",
        "outputId": "f576a52f-fd25-4889-c7e1-08152e027d80"
      },
      "outputs": [
        {
          "output_type": "stream",
          "name": "stdout",
          "text": [
            "Enter number of rows 4\n",
            "     1 \n",
            "    1 1 \n",
            "   1 2 1 \n",
            "  1 3 3 1 \n"
          ]
        }
      ],
      "source": [
        "a=int(input(\"Enter number of rows \"))\n",
        "for i in range(a):\n",
        "  c=1\n",
        "  for j in range(a-i+1):\n",
        "    print(end=\" \")\n",
        "  for j in range(i+1):\n",
        "    print(c ,end=\" \")\n",
        "    c=c*(i-j)//(j+1)\n",
        "  print()"
      ]
    },
    {
      "cell_type": "code",
      "source": [
        "from math import factorial\n",
        "a=int(input(\"Enter number of rows \"))\n",
        "for i in range(a):\n",
        "  for j in range(a-i+1):\n",
        "    print(end=\" \")\n",
        "  for j in range(i+1):\n",
        "    print(factorial(i) // (factorial(j)*factorial(i-j)),end=\" \")\n",
        "  print()"
      ],
      "metadata": {
        "colab": {
          "base_uri": "https://localhost:8080/"
        },
        "id": "HeDPRg-XQfKC",
        "outputId": "410d313d-111a-447d-963f-f6d154ae55cf"
      },
      "execution_count": null,
      "outputs": [
        {
          "output_type": "stream",
          "name": "stdout",
          "text": [
            "Enter number of rows 3\n",
            "    1 \n",
            "   1 1 \n",
            "  1 2 1 \n"
          ]
        }
      ]
    },
    {
      "cell_type": "markdown",
      "source": [
        "**Question 1**: Write a program to find factorial of a number\n"
      ],
      "metadata": {
        "id": "sT3V_MjKSB6x"
      }
    },
    {
      "cell_type": "code",
      "source": [
        "def factorial(a):\n",
        "  c=1\n",
        "  for i in range(1,a+1):\n",
        "    c=c*i\n",
        "  return c\n",
        "\n",
        "a=int(input(\"Enter a number \"))\n",
        "c=factorial(a)\n",
        "print(a,\"! = \",c)"
      ],
      "metadata": {
        "colab": {
          "base_uri": "https://localhost:8080/"
        },
        "id": "b6AKPgo_VPKZ",
        "outputId": "ab70f40f-d773-42c6-eb6f-990d27e28461"
      },
      "execution_count": null,
      "outputs": [
        {
          "output_type": "stream",
          "name": "stdout",
          "text": [
            "Enter a number 3\n",
            "3 ! =  6\n"
          ]
        }
      ]
    },
    {
      "cell_type": "markdown",
      "source": [
        "**Question 2:** Write a python program to find the number of possible combinations that can be obtained by taking\n",
        "a sample of items."
      ],
      "metadata": {
        "id": "g39OHJ6hWFuw"
      }
    },
    {
      "cell_type": "code",
      "source": [
        "from itertools import combinations\n",
        "def comb(l,r):\n",
        "  c=list(combinations(l,r))\n",
        "  return len(c)\n",
        "\n",
        "n=int(input(\"Enter number of items\"))\n",
        "l=[]\n",
        "for i in range(n):\n",
        "  c=int(input(\"Enter value\"))\n",
        "  l.append(c)\n",
        "r=int(input(\"Enter value of r\"))\n",
        "print(\"{}C{}\".format(r,len(l)),\"=\",comb(l,r))"
      ],
      "metadata": {
        "colab": {
          "base_uri": "https://localhost:8080/"
        },
        "id": "P2FqQsFFWJ9l",
        "outputId": "ed1ba12b-eee6-48fb-930d-4d294da26dc8"
      },
      "execution_count": null,
      "outputs": [
        {
          "output_type": "stream",
          "name": "stdout",
          "text": [
            "Enter number of items3\n",
            "Enter value3\n",
            "Enter value4\n",
            "Enter value5\n",
            "Enter value of r3\n",
            "3C3 = 1\n"
          ]
        }
      ]
    },
    {
      "cell_type": "markdown",
      "source": [
        "**Question 3**: Write a python program to generate binomial series : Given a, b and n, print the series\n",
        "\n",
        "![Screenshot 2023-01-10 123623.png](data:image/png;base64,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)"
      ],
      "metadata": {
        "id": "J4UVUUJRf0U5"
      }
    },
    {
      "cell_type": "code",
      "source": [
        "def factorial(n):\n",
        "    f = 1\n",
        "    for i in range(1, n+1):\n",
        "        f *= i\n",
        "    return f\n",
        "\n",
        "\n",
        "def series(A, X, n):\n",
        "    nFact = factorial(n)\n",
        "    for i in range(0, n + 1):\n",
        "        niFact = factorial(n - i)\n",
        "        iFact = factorial(i)\n",
        "        aPow = pow(A, n - i)\n",
        "        xPow = pow(X, i)\n",
        "        print (int((nFact * aPow * xPow) /\n",
        "                   (niFact * iFact)), end = \" \")\n",
        "\n",
        "A = 3; X = 4; n = 5\n",
        "series(A, X, n)"
      ],
      "metadata": {
        "colab": {
          "base_uri": "https://localhost:8080/"
        },
        "id": "LAj8ybYUgLaX",
        "outputId": "edfddd13-add1-4400-9101-fdaf172cbcba"
      },
      "execution_count": null,
      "outputs": [
        {
          "output_type": "stream",
          "name": "stdout",
          "text": [
            "243 1620 4320 5760 3840 1024 "
          ]
        }
      ]
    },
    {
      "cell_type": "markdown",
      "source": [
        "**Question 4:**\n",
        "Write a python program to generate pascals triangle with n rows"
      ],
      "metadata": {
        "id": "LW89ZiIfJtO2"
      }
    },
    {
      "cell_type": "code",
      "source": [
        "a=int(input(\"Enter number of rows \"))\n",
        "for j in range(a+2):\n",
        "    print(end=\" \")\n",
        "print('1')\n",
        "for i in range(a-1):\n",
        "  c=1\n",
        "  for j in range(a-i+1):\n",
        "    print(end=\" \")\n",
        "  print('1' ,end=\" \")\n",
        "  for j in range(i+1):\n",
        "    print(c ,end=\" \")\n",
        "    c=c*(i-j)//(j+1)\n",
        "  print()"
      ],
      "metadata": {
        "colab": {
          "base_uri": "https://localhost:8080/"
        },
        "id": "FxaZmG-tI0gK",
        "outputId": "89a74bdb-2197-4d36-ea8a-cf7c7e4043e0"
      },
      "execution_count": null,
      "outputs": [
        {
          "output_type": "stream",
          "name": "stdout",
          "text": [
            "Enter number of rows 6\n",
            "        1\n",
            "       1 1 \n",
            "      1 1 1 \n",
            "     1 1 2 1 \n",
            "    1 1 3 3 1 \n",
            "   1 1 4 6 4 1 \n"
          ]
        }
      ]
    },
    {
      "cell_type": "markdown",
      "source": [
        "**Question 5:**\n",
        "\n",
        "Find the next lexicographic permutation of the given list of numbers formed by a given array using\n",
        "the algorithm discussed in class."
      ],
      "metadata": {
        "id": "tOg-TcuKKioh"
      }
    },
    {
      "cell_type": "code",
      "source": [
        "def findNext(number,n):\n",
        "\tfor i in range(n-1,0,-1):\n",
        "\t\tif number[i] > number[i-1]:\n",
        "\t\t\tbreak\n",
        "\tif i == 1 and number[i] <= number[i-1]:\n",
        "\t\tprint (\"Next number not possible\")\n",
        "\t\treturn\n",
        "\n",
        "\tx = number[i-1]\n",
        "\tsmallest = i\n",
        "\tfor j in range(i+1,n):\n",
        "\t\tif number[j] > x and number[j] < number[smallest]:\n",
        "\t\t\tsmallest = j\n",
        "\tnumber[smallest],number[i-1] = number[i-1], number[smallest]\n",
        "\tx = 0\n",
        "\tfor j in range(i):\n",
        "\t\tx = x * 10 + number[j]\n",
        "\n",
        "\tnumber = sorted(number[i:])\n",
        "\tfor j in range(n-i):\n",
        "\t\tx = x * 10 + number[j]\n",
        "\tprint (\"Next number with set of digits is\",x)\n",
        "digits = \"534976\"\n",
        "number = list(map(int ,digits))\n",
        "findNext(number, len(digits))\n"
      ],
      "metadata": {
        "colab": {
          "base_uri": "https://localhost:8080/"
        },
        "id": "Vprc9yjvKhsR",
        "outputId": "238d7e7a-0797-4cfb-dd13-a02246435598"
      },
      "execution_count": null,
      "outputs": [
        {
          "output_type": "stream",
          "name": "stdout",
          "text": [
            "Next number with set of digits is 536479\n"
          ]
        }
      ]
    },
    {
      "cell_type": "markdown",
      "source": [
        "**Question 6:**\n",
        "Find the next lexicographic combination of the given list of numbers formed by a given array using\n",
        "the algorithm discussed in class."
      ],
      "metadata": {
        "id": "YjAqqk53Jywi"
      }
    },
    {
      "cell_type": "code",
      "source": [
        "def lexNumbers(n):\n",
        "\n",
        "    s = []\n",
        "    for i in range(1, n + 1):\n",
        "        s.append(str(i))\n",
        "    s.sort()\n",
        "    ans = []\n",
        "    for i in range(n):\n",
        "        ans.append(int(s[i]))\n",
        "    for i in range(n):\n",
        "        print(ans[i], end = ' ')\n",
        "if __name__ == \"__main__\":\n",
        "\n",
        "    n = 15\n",
        "    lexNumbers(n)"
      ],
      "metadata": {
        "colab": {
          "base_uri": "https://localhost:8080/"
        },
        "id": "pXQm1Z-JI448",
        "outputId": "52a719c9-2be3-46d2-b638-4c0220279207"
      },
      "execution_count": null,
      "outputs": [
        {
          "output_type": "stream",
          "name": "stdout",
          "text": [
            "1 10 11 12 13 14 15 2 3 4 5 6 7 8 9 "
          ]
        }
      ]
    },
    {
      "cell_type": "markdown",
      "source": [
        "**Question 7:**\n",
        "\n",
        "A “Stirling number of the second kind” — S(n, k) — is the number of ways to partition n items into\n",
        "k subsets. For example, the number of ways to group n=4 items into k=2 subsets is 7. Suppose the 4 items are a, b, c, d. Then S(4,2) = 7. The seven partitions are: (a | bcd), (b | acd), (c | abd),\n",
        "(d | abc), (ab |cd), (ac | bd), and (ad | bc).\n",
        "Write a python program to generate s(n, k) using the following:\n",
        "s(r, 0) = 0, s(r, r) = 1. s(r, 1) = (r - 1)!,\n",
        "s(r, r - 1) = nCr(r, 2)\n",
        "s(r, n) = s(r - 1, n - 1) + (r - 1) * s(r - 1, n)"
      ],
      "metadata": {
        "id": "8Pz3LGILJ6_B"
      }
    },
    {
      "cell_type": "code",
      "source": [
        "def my_stirling_second(n, k):\n",
        "  sum = 0\n",
        "  for j in range(0, k+1):\n",
        "    a = my_power(-1, k-j)\n",
        "    b = my_choose(k, j)\n",
        "    c = my_power(j, n)\n",
        "    sum += a * b * c\n",
        "\n",
        "  return sum // my_factorial(k)\n",
        "\n",
        "def my_factorial(n):\n",
        "  ans = 1\n",
        "  for i in range(1,n+1):\n",
        "    ans = i\n",
        "  return ans\n",
        "\n",
        "def my_power(n, p):\n",
        "  # n^p\n",
        "  ans = 1\n",
        "  for i in range(p):\n",
        "    ans= n\n",
        "  return ans\n",
        "\n",
        "def my_choose(n, k):\n",
        "  if n == k: return 1\n",
        "  if k < n-k:\n",
        "    delta = n - k\n",
        "    i_max = k\n",
        "  else:\n",
        "    delta = k\n",
        "    i_max = n - k\n",
        "\n",
        "  ans = delta + 1\n",
        "  for i in range(2, i_max+1):\n",
        "    ans = (ans * (delta + i)) // i\n",
        "  return ans\n",
        "\n",
        "\n",
        "def main():\n",
        "  print(\"\\nBegin Stirling numbers second kind demo \")\n",
        "\n",
        "  nf = my_factorial(10)\n",
        "  print(\"\\nmy_factorial(10) = \")\n",
        "  print(\"{:,}\".format(nf))\n",
        "\n",
        "  pwr = my_power(5, 3)\n",
        "  print(\"\\nmy_power(5,3) = \")\n",
        "  print(\"{:,}\".format(pwr))\n",
        "\n",
        "  c = my_choose(10, 3)\n",
        "  print(\"\\nmy_choose(10,3) = \")\n",
        "  print(\"{:,}\".format(c))\n",
        "\n",
        "  sn = my_stirling_second(100, 3)\n",
        "  print(\"\\nmy_stirling_second(100,3) = \")\n",
        "  print(\"{:,}\".format(sn))\n",
        "\n",
        "if __name__== \"__main__\":\n",
        "  main()"
      ],
      "metadata": {
        "colab": {
          "base_uri": "https://localhost:8080/"
        },
        "id": "eKzc6qx3I8M5",
        "outputId": "7588102f-7ac5-4088-cb49-9cb61662a4d4"
      },
      "execution_count": null,
      "outputs": [
        {
          "output_type": "stream",
          "name": "stdout",
          "text": [
            "\n",
            "Begin Stirling numbers second kind demo \n",
            "\n",
            "my_factorial(10) = \n",
            "10\n",
            "\n",
            "my_power(5,3) = \n",
            "5\n",
            "\n",
            "my_choose(10,3) = \n",
            "120\n",
            "\n",
            "my_stirling_second(100,3) = \n",
            "-2\n"
          ]
        }
      ]
    }
  ]
}