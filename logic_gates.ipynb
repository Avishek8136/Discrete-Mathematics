{
  "nbformat": 4,
  "nbformat_minor": 0,
  "metadata": {
    "colab": {
      "provenance": []
    },
    "kernelspec": {
      "name": "python3",
      "display_name": "Python 3"
    },
    "language_info": {
      "name": "python"
    }
  },
  "cells": [
    {
      "cell_type": "markdown",
      "source": [
        "**Question 1:**\n",
        "\n",
        "Consider two variables Boolean variables p and q. Generate truth table of the following Boolean operations\n",
        "\n",
        "a) Disjunction"
      ],
      "metadata": {
        "id": "B1PL_IcjkyYb"
      }
    },
    {
      "cell_type": "code",
      "execution_count": null,
      "metadata": {
        "colab": {
          "base_uri": "https://localhost:8080/"
        },
        "id": "KUMoUYnljxGf",
        "outputId": "e0184601-3ba4-4957-de90-d37b4aa80298"
      },
      "outputs": [
        {
          "output_type": "stream",
          "name": "stdout",
          "text": [
            "-----------\n",
            "p   q        p v q\n",
            "-----------\n",
            "True True True\n",
            "True False True\n",
            "False True True\n",
            "False False False\n"
          ]
        }
      ],
      "source": [
        "def disjunction(p,q):\n",
        "    return p or q\n",
        "\n",
        "print(\"-----------\")\n",
        "print(\"p   q        p v q\")\n",
        "print(\"-----------\")\n",
        "for p in [True, False]:\n",
        "  for q in [True, False]:\n",
        "    a=disjunction(p,q)\n",
        "    print(p,q,a)"
      ]
    },
    {
      "cell_type": "markdown",
      "source": [
        "b) Conjunction"
      ],
      "metadata": {
        "id": "vWHad0hTk_jb"
      }
    },
    {
      "cell_type": "code",
      "source": [
        "def conjunction(p,q):\n",
        "    return p and q\n",
        "\n",
        "print(\"-----------\")\n",
        "print(\"p   q        p ^ q\")\n",
        "print(\"-----------\")\n",
        "for p in [True, False]:\n",
        "  for q in [True, False]:\n",
        "    a=conjunction(p,q)\n",
        "    print(p,q,a)\n"
      ],
      "metadata": {
        "colab": {
          "base_uri": "https://localhost:8080/"
        },
        "id": "CKNPEYzelCeC",
        "outputId": "18e17b82-7c21-4dd4-9939-a2b861e20ab1"
      },
      "execution_count": null,
      "outputs": [
        {
          "output_type": "stream",
          "name": "stdout",
          "text": [
            "-----------\n",
            "p   q        p ^ q\n",
            "-----------\n",
            "True True True\n",
            "True False False\n",
            "False True False\n",
            "False False False\n"
          ]
        }
      ]
    },
    {
      "cell_type": "markdown",
      "source": [
        "c) Negation"
      ],
      "metadata": {
        "id": "t9U-kCdblFNR"
      }
    },
    {
      "cell_type": "code",
      "source": [
        "def negation(p):\n",
        "    return not p\n",
        "\n",
        "print(\"-----------\")\n",
        "print(\"p           -p\")\n",
        "print(\"-----------\")\n",
        "for p in [True, False]:\n",
        "    a=negation(p)\n",
        "    print(p,a)"
      ],
      "metadata": {
        "colab": {
          "base_uri": "https://localhost:8080/"
        },
        "id": "UCjoopIzlJRS",
        "outputId": "2a0ea5d6-0e70-441c-b733-42904d840b3b"
      },
      "execution_count": null,
      "outputs": [
        {
          "output_type": "stream",
          "name": "stdout",
          "text": [
            "-----------\n",
            "p           -p\n",
            "-----------\n",
            "True False\n",
            "False True\n"
          ]
        }
      ]
    },
    {
      "cell_type": "markdown",
      "source": [
        "d) XOR"
      ],
      "metadata": {
        "id": "K-WkJMq1lQpU"
      }
    },
    {
      "cell_type": "code",
      "source": [
        "def xor(p,q):\n",
        "    return p != q\n",
        "\n",
        "print(\"-----------\")\n",
        "print(\"p   q        p != q\")\n",
        "print(\"-----------\")\n",
        "for p in [True, False]:\n",
        "  for q in [True, False]:\n",
        "    a=xor(p,q)\n",
        "    print(p,q,a)"
      ],
      "metadata": {
        "colab": {
          "base_uri": "https://localhost:8080/"
        },
        "id": "8UhcKgQwlOtl",
        "outputId": "ed408a99-1d3e-4200-be6e-060a0fc614c2"
      },
      "execution_count": null,
      "outputs": [
        {
          "output_type": "stream",
          "name": "stdout",
          "text": [
            "-----------\n",
            "p   q        p != q\n",
            "-----------\n",
            "True True False\n",
            "True False True\n",
            "False True True\n",
            "False False False\n"
          ]
        }
      ]
    },
    {
      "cell_type": "code",
      "source": [
        "def xor(p,q):\n",
        "    return p ^ q\n",
        "\n",
        "print(\"-----------\")\n",
        "print(\"p   q        p xor q\")\n",
        "print(\"-----------\")\n",
        "for p in [True, False]:\n",
        "  for q in [True, False]:\n",
        "    a=xor(p,q)\n",
        "    print(p,q,a)"
      ],
      "metadata": {
        "colab": {
          "base_uri": "https://localhost:8080/"
        },
        "id": "XTBDSIF9lfe7",
        "outputId": "b10f1c3a-41dd-465c-e053-7f80982cf670"
      },
      "execution_count": null,
      "outputs": [
        {
          "output_type": "stream",
          "name": "stdout",
          "text": [
            "-----------\n",
            "p   q        p xor q\n",
            "-----------\n",
            "True True False\n",
            "True False True\n",
            "False True True\n",
            "False False False\n"
          ]
        }
      ]
    },
    {
      "cell_type": "markdown",
      "source": [
        "**Question 2:**\n",
        "\n",
        " Extend Question 1 for three Boolean variables and print the truth table\n",
        "\n",
        "a) Disjunction"
      ],
      "metadata": {
        "id": "eEB35UoslTYs"
      }
    },
    {
      "cell_type": "code",
      "source": [
        "def disjunction(p,q,r):\n",
        "    return p or q or r\n",
        "\n",
        "print(\"-----------\")\n",
        "print(\"p   q    r    p v q v r\")\n",
        "print(\"-----------\")\n",
        "for p in [True, False]:\n",
        "  for q in [True, False]:\n",
        "    for r in[True, False]:\n",
        "      a=disjunction(p,q,r)\n",
        "      print(p,q,r,a)"
      ],
      "metadata": {
        "colab": {
          "base_uri": "https://localhost:8080/"
        },
        "id": "qIvOJv-PlwWV",
        "outputId": "ed5d3c3a-151a-4d0f-e314-514fc00c7909"
      },
      "execution_count": null,
      "outputs": [
        {
          "output_type": "stream",
          "name": "stdout",
          "text": [
            "-----------\n",
            "p   q    r    p v q v r\n",
            "-----------\n",
            "True True True True\n",
            "True True False True\n",
            "True False True True\n",
            "True False False True\n",
            "False True True True\n",
            "False True False True\n",
            "False False True True\n",
            "False False False False\n"
          ]
        }
      ]
    },
    {
      "cell_type": "markdown",
      "source": [
        "b) Conjunction"
      ],
      "metadata": {
        "id": "WC3vJ6rjmA6V"
      }
    },
    {
      "cell_type": "code",
      "source": [
        "def conjunction(p,q,r):\n",
        "    return p and q and r\n",
        "\n",
        "print(\"-----------\")\n",
        "print(\"p   q    r    p ^ q ^ r\")\n",
        "print(\"-----------\")\n",
        "for p in [True, False]:\n",
        "  for q in [True, False]:\n",
        "    for r in[True, False]:\n",
        "      a=conjunction(p,q,r)\n",
        "      print(p,q,r,a)"
      ],
      "metadata": {
        "colab": {
          "base_uri": "https://localhost:8080/"
        },
        "id": "HGi9hb9Al1qr",
        "outputId": "7940ad50-b89a-4de6-bdd8-e3f8d43d695c"
      },
      "execution_count": null,
      "outputs": [
        {
          "output_type": "stream",
          "name": "stdout",
          "text": [
            "-----------\n",
            "p   q    r    p ^ q ^ r\n",
            "-----------\n",
            "True True True True\n",
            "True True False False\n",
            "True False True False\n",
            "True False False False\n",
            "False True True False\n",
            "False True False False\n",
            "False False True False\n",
            "False False False False\n"
          ]
        }
      ]
    },
    {
      "cell_type": "markdown",
      "source": [
        "c) XOR"
      ],
      "metadata": {
        "id": "owhnZNaWmHrU"
      }
    },
    {
      "cell_type": "code",
      "source": [
        "def xor(p,q,r):\n",
        "    return (p != q) != r\n",
        "\n",
        "print(\"-----------\")\n",
        "print(\"p   q    r    p != q != r\")\n",
        "print(\"-----------\")\n",
        "for p in [True, False]:\n",
        "  for q in [True, False]:\n",
        "    for r in[True, False]:\n",
        "      a=xor(p,q,r)\n",
        "      print(p,q,r,a)"
      ],
      "metadata": {
        "colab": {
          "base_uri": "https://localhost:8080/"
        },
        "id": "bbdbus-fmMDB",
        "outputId": "71a7495d-037d-4b79-8652-a8f677866bb9"
      },
      "execution_count": null,
      "outputs": [
        {
          "output_type": "stream",
          "name": "stdout",
          "text": [
            "-----------\n",
            "p   q    r    p != q != r\n",
            "-----------\n",
            "True True True True\n",
            "True True False False\n",
            "True False True False\n",
            "True False False True\n",
            "False True True False\n",
            "False True False True\n",
            "False False True True\n",
            "False False False False\n"
          ]
        }
      ]
    },
    {
      "cell_type": "markdown",
      "source": [
        "**Question 3:**\n",
        "\n",
        "Print the truth table of conditional and biconditional operations on two Boolean\n",
        "variables p and q\n",
        "\n",
        "a) Conditional"
      ],
      "metadata": {
        "id": "HchE-WHlmLZ6"
      }
    },
    {
      "cell_type": "code",
      "source": [
        "def conditional(p,q):\n",
        "    return (not p)or q\n",
        "\n",
        "print(\"-----------\")\n",
        "print(\"p   q    r    p -> q\")\n",
        "print(\"-----------\")\n",
        "for p in [True, False]:\n",
        "  for q in [True, False]:\n",
        "      a=conditional(p,q)\n",
        "      print(p,q,a)\n"
      ],
      "metadata": {
        "colab": {
          "base_uri": "https://localhost:8080/"
        },
        "id": "Dr6SpgvBmWK6",
        "outputId": "51578094-fd4f-4f8e-c276-7816f3c75767"
      },
      "execution_count": null,
      "outputs": [
        {
          "output_type": "stream",
          "name": "stdout",
          "text": [
            "-----------\n",
            "p   q    r    p -> q\n",
            "-----------\n",
            "True True True\n",
            "True False False\n",
            "False True True\n",
            "False False True\n"
          ]
        }
      ]
    },
    {
      "cell_type": "markdown",
      "source": [
        "b) Conditional 2"
      ],
      "metadata": {
        "id": "1ZKz2_YLmZWF"
      }
    },
    {
      "cell_type": "code",
      "source": [
        "print(\"-----------\")\n",
        "print(\"p   q    r    q -> p\")\n",
        "print(\"-----------\")\n",
        "for p in [True, False]:\n",
        "  for q in [True, False]:\n",
        "      a=conditional(q,p)\n",
        "      print(p,q,a)"
      ],
      "metadata": {
        "colab": {
          "base_uri": "https://localhost:8080/"
        },
        "id": "3jG7NoDwmcHQ",
        "outputId": "ab5cec02-2f16-4fe7-e891-e15362a2ee43"
      },
      "execution_count": null,
      "outputs": [
        {
          "output_type": "stream",
          "name": "stdout",
          "text": [
            "-----------\n",
            "p   q    r    q -> p\n",
            "-----------\n",
            "True True True\n",
            "True False True\n",
            "False True False\n",
            "False False True\n"
          ]
        }
      ]
    },
    {
      "cell_type": "markdown",
      "source": [
        "c) Biconditional"
      ],
      "metadata": {
        "id": "PSSwTo9Smgxk"
      }
    },
    {
      "cell_type": "code",
      "source": [
        "def biconditional(p,q):\n",
        "    return (conditional(p,q) and conditional(q,p))\n",
        "\n",
        "print(\"-----------\")\n",
        "print(\"p   q    r    p <-> q\")\n",
        "print(\"-----------\")\n",
        "for p in [True, False]:\n",
        "  for q in [True, False]:\n",
        "      a=biconditional(p,q)\n",
        "      print(p,q,a)"
      ],
      "metadata": {
        "colab": {
          "base_uri": "https://localhost:8080/"
        },
        "id": "8VAFdkFxmjc0",
        "outputId": "5563786e-41f1-4342-c997-cec8b9449560"
      },
      "execution_count": null,
      "outputs": [
        {
          "output_type": "stream",
          "name": "stdout",
          "text": [
            "-----------\n",
            "p   q    r    p <-> q\n",
            "-----------\n",
            "True True True\n",
            "True False False\n",
            "False True False\n",
            "False False True\n"
          ]
        }
      ]
    },
    {
      "cell_type": "markdown",
      "source": [
        "**Question 4:**\n",
        "\n",
        "Print the truth table for the following Boolean expressions\n",
        "\n",
        "a) -p v (p^q)"
      ],
      "metadata": {
        "id": "ZFBNn_pZmmvg"
      }
    },
    {
      "cell_type": "code",
      "source": [
        "def expression(p,q):\n",
        "    return (not p)or (p and q)\n",
        "\n",
        "print(\"-----------\")\n",
        "print(\"p   q        -p or ( p and q)\")\n",
        "print(\"-----------\")\n",
        "for p in [True, False]:\n",
        "  for q in [True, False]:\n",
        "      a=expression(p,q)\n",
        "      print(p,q,a)"
      ],
      "metadata": {
        "colab": {
          "base_uri": "https://localhost:8080/"
        },
        "id": "rC2K2np2m0TF",
        "outputId": "139a445b-03a1-41f6-8e24-5dd7bca68bde"
      },
      "execution_count": null,
      "outputs": [
        {
          "output_type": "stream",
          "name": "stdout",
          "text": [
            "-----------\n",
            "p   q        -p or ( p and q)\n",
            "-----------\n",
            "True True True\n",
            "True False False\n",
            "False True True\n",
            "False False True\n"
          ]
        }
      ]
    },
    {
      "cell_type": "markdown",
      "source": [
        "b) -p ^ (p v -q)"
      ],
      "metadata": {
        "id": "Y-g81_pnzx45"
      }
    },
    {
      "cell_type": "code",
      "source": [
        "def expression(p,q):\n",
        "    return (not p)and (p or (not q))\n",
        "\n",
        "print(\"-----------\")\n",
        "print(\"p   q        -p and ( p or ( -q))\")\n",
        "print(\"-----------\")\n",
        "for p in [True, False]:\n",
        "  for q in [True, False]:\n",
        "      a=expression(p,q)\n",
        "      print(p,q,a)"
      ],
      "metadata": {
        "colab": {
          "base_uri": "https://localhost:8080/"
        },
        "id": "mL0xzAkXFgEp",
        "outputId": "80606c25-c494-4c34-cbb4-edf684ffd4d0"
      },
      "execution_count": null,
      "outputs": [
        {
          "output_type": "stream",
          "name": "stdout",
          "text": [
            "-----------\n",
            "p   q        -p and ( p or ( -q))\n",
            "-----------\n",
            "True True False\n",
            "True False False\n",
            "False True False\n",
            "False False True\n"
          ]
        }
      ]
    },
    {
      "cell_type": "markdown",
      "source": [
        "c) (p^q) v (-q ^ r)"
      ],
      "metadata": {
        "id": "QyApAJ6_z5Pn"
      }
    },
    {
      "cell_type": "code",
      "source": [
        "def expression(p,q,r):\n",
        "    return (p and q)or ((not q) and r)\n",
        "\n",
        "print(\"-----------\")\n",
        "print(\"p   q   r     ( p and q ) or ( -q and r)\")\n",
        "print(\"-----------\")\n",
        "for p in [True, False]:\n",
        "  for q in [True, False]:\n",
        "    for r in [True, False]:\n",
        "        a=expression(p,q,r)\n",
        "        print(p,q,r,a)"
      ],
      "metadata": {
        "colab": {
          "base_uri": "https://localhost:8080/"
        },
        "id": "Q0xTnASqGMC4",
        "outputId": "cc1f4dbb-bf55-4b58-ee4e-7d6a39c0c201"
      },
      "execution_count": null,
      "outputs": [
        {
          "output_type": "stream",
          "name": "stdout",
          "text": [
            "-----------\n",
            "p   q   r     ( p and q ) or ( -q and r)\n",
            "-----------\n",
            "True True True True\n",
            "True True False True\n",
            "True False True True\n",
            "True False False False\n",
            "False True True False\n",
            "False True False False\n",
            "False False True True\n",
            "False False False False\n"
          ]
        }
      ]
    },
    {
      "cell_type": "markdown",
      "source": [
        "**Question 5:**\n",
        "\n",
        " Perform the bitwise operations bitwise OR, bitwise AND, and bitwise XOR of\n",
        "each of these pairs of bit strings.\n",
        "\n",
        "a)101 1110, 010 0001\n",
        "\n",
        "i) OR"
      ],
      "metadata": {
        "id": "4JLY7Ox80OT5"
      }
    },
    {
      "cell_type": "code",
      "source": [
        "def bitwiseor(p,q):\n",
        "    return (p | q)\n",
        "print(\"-----------\")\n",
        "print(\"p   q        bitwise or p and q\")\n",
        "print(\"-----------\")\n",
        "p= 0b1011110\n",
        "q=0b0100001\n",
        "r=bitwiseor(p,q)\n",
        "print(bin(r))\n"
      ],
      "metadata": {
        "colab": {
          "base_uri": "https://localhost:8080/"
        },
        "id": "BDVbU0TnHUs2",
        "outputId": "d15558c9-3c42-499c-eb17-2c2fe1c1481f"
      },
      "execution_count": null,
      "outputs": [
        {
          "output_type": "stream",
          "name": "stdout",
          "text": [
            "-----------\n",
            "p   q        bitwise or p and q\n",
            "-----------\n",
            "0b1111111\n"
          ]
        }
      ]
    },
    {
      "cell_type": "markdown",
      "source": [
        "ii) AND"
      ],
      "metadata": {
        "id": "hTUaSAoe0jRh"
      }
    },
    {
      "cell_type": "code",
      "source": [
        "def bitwiseand(p,q):\n",
        "    return (p & q)\n",
        "print(\"-----------\")\n",
        "print(\"p   q        bitwise and p and q\")\n",
        "print(\"-----------\")\n",
        "p= 0b1011110\n",
        "q=0b0100001\n",
        "r=bitwiseand(p,q)\n",
        "print(bin(r))\n"
      ],
      "metadata": {
        "colab": {
          "base_uri": "https://localhost:8080/"
        },
        "id": "BFQH4chKTKVb",
        "outputId": "8e18b586-6b82-4091-e990-5d1b3f19f4fe"
      },
      "execution_count": null,
      "outputs": [
        {
          "output_type": "stream",
          "name": "stdout",
          "text": [
            "-----------\n",
            "p   q        bitwise and p and q\n",
            "-----------\n",
            "0b0\n"
          ]
        }
      ]
    },
    {
      "cell_type": "markdown",
      "source": [
        "iii) XOR"
      ],
      "metadata": {
        "id": "YnrfOc8m0qw5"
      }
    },
    {
      "cell_type": "code",
      "source": [
        "def bitwisexor(p,q):\n",
        "    return (p ^ q)\n",
        "print(\"-----------\")\n",
        "print(\"p   q        bitwise xor p and q\")\n",
        "print(\"-----------\")\n",
        "p= 0b1011110\n",
        "q= 0b0100001\n",
        "r=bitwisexor(p,q)\n",
        "print(bin(r))\n"
      ],
      "metadata": {
        "colab": {
          "base_uri": "https://localhost:8080/"
        },
        "id": "rji4GvilTTKr",
        "outputId": "477af26e-e311-4b00-a219-5045209bd4ca"
      },
      "execution_count": null,
      "outputs": [
        {
          "output_type": "stream",
          "name": "stdout",
          "text": [
            "-----------\n",
            "p   q        bitwise xor p and q\n",
            "-----------\n",
            "0b1111111\n"
          ]
        }
      ]
    },
    {
      "cell_type": "markdown",
      "source": [
        "b) 1111 0000, 1010 1010\n",
        "\n",
        "i) OR"
      ],
      "metadata": {
        "id": "1Os9mwmQ0v3S"
      }
    },
    {
      "cell_type": "code",
      "source": [
        "\n",
        "print(\"-----------\")\n",
        "print(\"p   q        bitwise or p and q\")\n",
        "print(\"-----------\")\n",
        "p= 0b11110000\n",
        "q=0b10101010\n",
        "r=bitwiseor(p,q)\n",
        "print(bin(r))"
      ],
      "metadata": {
        "colab": {
          "base_uri": "https://localhost:8080/"
        },
        "id": "Z9esZy2aUoft",
        "outputId": "01b04876-4f1f-402a-dda1-987ce1780a96"
      },
      "execution_count": null,
      "outputs": [
        {
          "output_type": "stream",
          "name": "stdout",
          "text": [
            "-----------\n",
            "p   q        bitwise or p and q\n",
            "-----------\n",
            "0b11111010\n"
          ]
        }
      ]
    },
    {
      "cell_type": "markdown",
      "source": [
        "ii) AND"
      ],
      "metadata": {
        "id": "d35w7Naz017L"
      }
    },
    {
      "cell_type": "code",
      "source": [
        "\n",
        "print(\"-----------\")\n",
        "print(\"p   q        bitwise and p and q\")\n",
        "print(\"-----------\")\n",
        "p= 0b11110000\n",
        "q=0b10101010\n",
        "r=bitwiseand(p,q)\n",
        "print(bin(r))"
      ],
      "metadata": {
        "colab": {
          "base_uri": "https://localhost:8080/"
        },
        "id": "PcY-doEyUTi4",
        "outputId": "113be18f-7924-49cf-d21d-f82c71abe680"
      },
      "execution_count": null,
      "outputs": [
        {
          "output_type": "stream",
          "name": "stdout",
          "text": [
            "-----------\n",
            "p   q        bitwise and p and q\n",
            "-----------\n",
            "0b10100000\n"
          ]
        }
      ]
    },
    {
      "cell_type": "markdown",
      "source": [
        "iii) XOR"
      ],
      "metadata": {
        "id": "qID-x2t_0_Wr"
      }
    },
    {
      "cell_type": "code",
      "source": [
        "\n",
        "print(\"-----------\")\n",
        "print(\"p   q        bitwise xor p and q\")\n",
        "print(\"-----------\")\n",
        "p= 0b11110000\n",
        "q= 0b10101010\n",
        "r=bitwisexor(p,q)\n",
        "print(bin(r))"
      ],
      "metadata": {
        "colab": {
          "base_uri": "https://localhost:8080/"
        },
        "id": "5YmbL-VUUDVB",
        "outputId": "12d762bb-2837-4484-b9cb-401e0d0bc129"
      },
      "execution_count": null,
      "outputs": [
        {
          "output_type": "stream",
          "name": "stdout",
          "text": [
            "-----------\n",
            "p   q        bitwise xor p and q\n",
            "-----------\n",
            "0b1011010\n"
          ]
        }
      ]
    },
    {
      "cell_type": "markdown",
      "source": [
        "c) 00 0111 0001, 10 0100 1000\n",
        "\n",
        "i) OR"
      ],
      "metadata": {
        "id": "9xt-kCtX1BqU"
      }
    },
    {
      "cell_type": "code",
      "source": [
        "\n",
        "print(\"-----------\")\n",
        "print(\"p   q        bitwise or p and q\")\n",
        "print(\"-----------\")\n",
        "p= 0b0001110001\n",
        "q=0b1001001000\n",
        "r=bitwiseor(p,q)\n",
        "print(bin(r))"
      ],
      "metadata": {
        "colab": {
          "base_uri": "https://localhost:8080/"
        },
        "id": "FD2a0s5MU7YG",
        "outputId": "479d7fd6-bacb-4c71-c84e-07aa489022b1"
      },
      "execution_count": null,
      "outputs": [
        {
          "output_type": "stream",
          "name": "stdout",
          "text": [
            "-----------\n",
            "p   q        bitwise or p and q\n",
            "-----------\n",
            "0b1001111001\n"
          ]
        }
      ]
    },
    {
      "cell_type": "markdown",
      "source": [
        "ii) AND"
      ],
      "metadata": {
        "id": "C0QOgcKQ1L5c"
      }
    },
    {
      "cell_type": "code",
      "source": [
        "print(\"-----------\")\n",
        "print(\"p   q        bitwise and p and q\")\n",
        "print(\"-----------\")\n",
        "p= 0b0001110001\n",
        "q=0b1001001000\n",
        "r=bitwiseand(p,q)\n",
        "print(bin(r))"
      ],
      "metadata": {
        "colab": {
          "base_uri": "https://localhost:8080/"
        },
        "id": "kgAfA9rLVIx8",
        "outputId": "0c58552e-fa18-4555-e313-ff376627720a"
      },
      "execution_count": null,
      "outputs": [
        {
          "output_type": "stream",
          "name": "stdout",
          "text": [
            "-----------\n",
            "p   q        bitwise and p and q\n",
            "-----------\n",
            "0b1000000\n"
          ]
        }
      ]
    },
    {
      "cell_type": "markdown",
      "source": [
        "iii) XOR"
      ],
      "metadata": {
        "id": "HFBSeych1Qo8"
      }
    },
    {
      "cell_type": "code",
      "source": [
        "print(\"-----------\")\n",
        "print(\"p   q        bitwise xor p and q\")\n",
        "print(\"-----------\")\n",
        "p= 0b0001110001\n",
        "q=0b1001001000\n",
        "r=bitwisexor(p,q)\n",
        "print(bin(r))"
      ],
      "metadata": {
        "colab": {
          "base_uri": "https://localhost:8080/"
        },
        "id": "ZbvG3jXtVg5d",
        "outputId": "b66764b5-4edb-4ff9-df3d-644158717687"
      },
      "execution_count": null,
      "outputs": [
        {
          "output_type": "stream",
          "name": "stdout",
          "text": [
            "-----------\n",
            "p   q        bitwise xor p and q\n",
            "-----------\n",
            "0b1000111001\n"
          ]
        }
      ]
    },
    {
      "cell_type": "markdown",
      "source": [
        "**Question 6:**\n",
        "\n",
        "Consider the below compound propositions. Generate the truth table and determine whether these\n",
        "two are equivalent or not.\n",
        "\n",
        "(p⟹q)∧(p⟹r)(p⟹q)∧(p⟹r)\n",
        "\n",
        "p⟹(q∧r)p⟹(q∧r)"
      ],
      "metadata": {
        "id": "OWytp8FV1XC0"
      }
    },
    {
      "cell_type": "code",
      "source": [
        "def expression1(p,q,r):\n",
        "  c= (((not p) or q) and ((not p) and r))\n",
        "  d=(((not p)and q)and ((not p)and r))\n",
        "  return (c and d)\n",
        "\n",
        "def expression2(p,q,r):\n",
        "  m = ((not p) or (q and r))\n",
        "  n = ((not p) or (q and r))\n",
        "  return (m and n)\n",
        "\n",
        "print(\"-----------\")\n",
        "print(\"p   q    r    (p->q)^(p->r)^(p->q)^(p->r) and p->(q^p)->(q^r)\")\n",
        "print(\"-----------\")\n",
        "for p in [True, False]:\n",
        "  for q in [True, False]:\n",
        "    for r in[True, False]:\n",
        "      a=expression1(p,q,r)\n",
        "      b=expression2(p,q,r)\n",
        "      if(a == b):\n",
        "        j=True\n",
        "      else:\n",
        "        j= False\n",
        "      print(p,q,r,a,b,j)\n"
      ],
      "metadata": {
        "colab": {
          "base_uri": "https://localhost:8080/"
        },
        "id": "povV9htuVuKX",
        "outputId": "340682dd-05a7-4a8c-872b-40ae916ce4e3"
      },
      "execution_count": null,
      "outputs": [
        {
          "output_type": "stream",
          "name": "stdout",
          "text": [
            "-----------\n",
            "p   q    r    (p->q)^(p->r)^(p->q)^(p->r) and p->(q^p)->(q^r)\n",
            "-----------\n",
            "True True True False True False\n",
            "True True False False False True\n",
            "True False True False False True\n",
            "True False False False False True\n",
            "False True True True True True\n",
            "False True False False True False\n",
            "False False True False True False\n",
            "False False False False True False\n"
          ]
        }
      ]
    }
  ]
}