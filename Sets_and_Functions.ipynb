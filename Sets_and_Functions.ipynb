{
  "nbformat": 4,
  "nbformat_minor": 0,
  "metadata": {
    "colab": {
      "provenance": []
    },
    "kernelspec": {
      "name": "python3",
      "display_name": "Python 3"
    },
    "language_info": {
      "name": "python"
    }
  },
  "cells": [
    {
      "cell_type": "markdown",
      "source": [
        "\n",
        "Practice 1: Checking Set Membership in Python."
      ],
      "metadata": {
        "id": "Sb-xHngDRA4p"
      }
    },
    {
      "cell_type": "code",
      "source": [
        "A={1,2,3,4,9,7}\n",
        "print(8 in A)\n",
        "print(2 in A)"
      ],
      "metadata": {
        "colab": {
          "base_uri": "https://localhost:8080/"
        },
        "id": "1gMhXmL2RKlV",
        "outputId": "81aae9e9-e979-4ee7-a8cd-7a1e6eafa690"
      },
      "execution_count": null,
      "outputs": [
        {
          "output_type": "stream",
          "name": "stdout",
          "text": [
            "False\n",
            "True\n"
          ]
        }
      ]
    },
    {
      "cell_type": "markdown",
      "source": [
        "Practice 2: Listing the Elements of a Set in Python"
      ],
      "metadata": {
        "id": "2ztwlEvpRjtl"
      }
    },
    {
      "cell_type": "code",
      "execution_count": null,
      "metadata": {
        "colab": {
          "base_uri": "https://localhost:8080/"
        },
        "id": "gi_NqKGCQ8MZ",
        "outputId": "cdc3c646-8604-48eb-bcba-247301bde184"
      },
      "outputs": [
        {
          "output_type": "stream",
          "name": "stdout",
          "text": [
            "1  is an element of set\n",
            "-5  is an element of set\n",
            "4  is an element of set\n",
            "-2  is an element of set\n"
          ]
        }
      ],
      "source": [
        "A={-2,-5,1,4}\n",
        "for x in A:\n",
        "  print(x,\" is an element of set\")"
      ]
    },
    {
      "cell_type": "code",
      "source": [
        "A={-2,6,-1,6}\n",
        "for x in A:\n",
        "  print(x,\" is an element of set\")"
      ],
      "metadata": {
        "colab": {
          "base_uri": "https://localhost:8080/"
        },
        "id": "1z_dUUHuXcHK",
        "outputId": "39e20ea1-bac0-48e8-ed11-27ccb2ccf711"
      },
      "execution_count": null,
      "outputs": [
        {
          "output_type": "stream",
          "name": "stdout",
          "text": [
            "-1  is an element of set\n",
            "-2  is an element of set\n",
            "6  is an element of set\n"
          ]
        }
      ]
    },
    {
      "cell_type": "markdown",
      "source": [
        "Practice 3: define the set B as the set of positive elements of the set A={−2,0,1,4}"
      ],
      "metadata": {
        "id": "9Fneub96SZS9"
      }
    },
    {
      "cell_type": "code",
      "source": [
        "A={-2,0,1,4}\n",
        "B={a for a in A if a>0}\n",
        "print(B)"
      ],
      "metadata": {
        "colab": {
          "base_uri": "https://localhost:8080/"
        },
        "id": "imsAfpO6RLGD",
        "outputId": "f0f5be18-d7e3-4275-eb0e-9f330f71b1f3"
      },
      "execution_count": null,
      "outputs": [
        {
          "output_type": "stream",
          "name": "stdout",
          "text": [
            "{1, 4}\n"
          ]
        }
      ]
    },
    {
      "cell_type": "markdown",
      "source": [
        "Practice 4: Cardinality in Python"
      ],
      "metadata": {
        "id": "K70HH2BVStbh"
      }
    },
    {
      "cell_type": "code",
      "source": [
        "A={1,2,3,\"Abhi\"}\n",
        "B=set()\n",
        "c={}\n",
        "d={0}\n",
        "print(len(A))\n",
        "print(len(B))\n",
        "print(len(c))\n",
        "print(len(d))"
      ],
      "metadata": {
        "colab": {
          "base_uri": "https://localhost:8080/"
        },
        "id": "sRMO0h1XS7KZ",
        "outputId": "e5ac53d1-4b02-422e-82fb-024173fe9cb3"
      },
      "execution_count": null,
      "outputs": [
        {
          "output_type": "stream",
          "name": "stdout",
          "text": [
            "4\n",
            "0\n",
            "0\n",
            "1\n"
          ]
        }
      ]
    },
    {
      "cell_type": "markdown",
      "source": [
        "Practice 5: Subsets in Python\n"
      ],
      "metadata": {
        "id": "iH7u_vRxSywU"
      }
    },
    {
      "cell_type": "code",
      "source": [
        "A={1,2,3,4,5,8,\"Abhi\"}\n",
        "b={\"Abhi\",1,4}\n",
        "print(b.issubset(A))\n",
        "print(A.issubset(b))\n",
        "print(b < A)"
      ],
      "metadata": {
        "colab": {
          "base_uri": "https://localhost:8080/"
        },
        "id": "DB7bNNJjTXaB",
        "outputId": "39c58452-3b6f-4fb7-fa0a-69d9abafbde3"
      },
      "execution_count": null,
      "outputs": [
        {
          "output_type": "stream",
          "name": "stdout",
          "text": [
            "True\n",
            "False\n",
            "True\n"
          ]
        }
      ]
    },
    {
      "cell_type": "markdown",
      "source": [
        "Practice 6: Union in Python"
      ],
      "metadata": {
        "id": "8kIiZgubT-pa"
      }
    },
    {
      "cell_type": "code",
      "source": [
        "a={1,2,\"A\",\"b\",5}\n",
        "b={1,\"A\",6,8}\n",
        "print(a.union(b))\n",
        "print(a|b)"
      ],
      "metadata": {
        "colab": {
          "base_uri": "https://localhost:8080/"
        },
        "id": "ChWB_k7_UDuK",
        "outputId": "9c4cdd10-5dcf-4371-88b6-61aeb5b1a7a8"
      },
      "execution_count": null,
      "outputs": [
        {
          "output_type": "stream",
          "name": "stdout",
          "text": [
            "{1, 2, 5, 6, 8, 'b', 'A'}\n",
            "{1, 2, 5, 6, 8, 'b', 'A'}\n"
          ]
        }
      ]
    },
    {
      "cell_type": "markdown",
      "source": [
        "Practice 7: Intersection in Python"
      ],
      "metadata": {
        "id": "9JUUggyYUizY"
      }
    },
    {
      "cell_type": "code",
      "source": [
        "print(a.intersection(b))\n",
        "print(a&b)"
      ],
      "metadata": {
        "colab": {
          "base_uri": "https://localhost:8080/"
        },
        "id": "iYOuFXwVUifZ",
        "outputId": "0361be9c-5eca-4b21-f577-78599fe51af1"
      },
      "execution_count": null,
      "outputs": [
        {
          "output_type": "stream",
          "name": "stdout",
          "text": [
            "{1, 'A'}\n",
            "{1, 'A'}\n"
          ]
        }
      ]
    },
    {
      "cell_type": "markdown",
      "source": [
        "Practice 8: Difference in Python"
      ],
      "metadata": {
        "id": "ZYxluzFnUxcn"
      }
    },
    {
      "cell_type": "code",
      "source": [
        "print(a.difference(b))\n",
        "print(b-a)"
      ],
      "metadata": {
        "colab": {
          "base_uri": "https://localhost:8080/"
        },
        "id": "Gz7AFZBBWWGA",
        "outputId": "f983285d-bc57-4233-d774-aca54b390318"
      },
      "execution_count": null,
      "outputs": [
        {
          "output_type": "stream",
          "name": "stdout",
          "text": [
            "{2, 5, 'b'}\n",
            "{8, 6}\n"
          ]
        }
      ]
    },
    {
      "cell_type": "markdown",
      "source": [
        "Practice 9: Representing Sets as List"
      ],
      "metadata": {
        "id": "wvf03Yr2Xh-7"
      }
    },
    {
      "cell_type": "code",
      "source": [
        "def cardianity(a):\n",
        "  aa=RemoveDuplicates(a)\n",
        "  return len(aa)\n",
        "\n",
        "def RemoveDuplicates(a):\n",
        "  b=[]\n",
        "  for x in a:\n",
        "   if x not in b:\n",
        "     b += [x]\n",
        "  return b\n",
        "\n",
        "a=[1,2,2,5,7,5,7,9]\n",
        "print(cardianity(a),\" cardianity\")\n"
      ],
      "metadata": {
        "colab": {
          "base_uri": "https://localhost:8080/"
        },
        "id": "DEHuMcXQaWwL",
        "outputId": "e75544ff-d1c8-45f5-bc4e-48d18c37f06c"
      },
      "execution_count": null,
      "outputs": [
        {
          "output_type": "stream",
          "name": "stdout",
          "text": [
            "5  cardianity\n"
          ]
        }
      ]
    },
    {
      "cell_type": "markdown",
      "source": [
        "Question 1: Using lists, checks whether one set is a subset of another"
      ],
      "metadata": {
        "id": "82gXqcffXl3f"
      }
    },
    {
      "cell_type": "code",
      "source": [
        "def subset(a,b):\n",
        "  c=0\n",
        "  for x in b:\n",
        "    if x not in a:\n",
        "      c=1\n",
        "      break\n",
        "  if(c==0):\n",
        "    return(\"subset\")\n",
        "  else:\n",
        "    return(\"not subset\")\n",
        "\n",
        "\n",
        "a=[1,1,5,7,8,4,52]\n",
        "b=[1,5,7]\n",
        "c=[1,5,99]\n",
        "print(subset(a,b))\n",
        "print(subset(a,c))"
      ],
      "metadata": {
        "colab": {
          "base_uri": "https://localhost:8080/"
        },
        "id": "P0_EV9kGa7zF",
        "outputId": "671e1ac4-c97a-4b0b-cff3-828f97ed600e"
      },
      "execution_count": null,
      "outputs": [
        {
          "output_type": "stream",
          "name": "stdout",
          "text": [
            "subset\n",
            "not subset\n"
          ]
        }
      ]
    },
    {
      "cell_type": "markdown",
      "source": [
        "Question 2: Write python code to check whether two sets are equal"
      ],
      "metadata": {
        "id": "A41QLRAucp2_"
      }
    },
    {
      "cell_type": "code",
      "source": [
        "a={0,1,2,3,2,4,5,4,2}\n",
        "b={0,1,2,3,4,5}\n",
        "print(\"Equals = \",a==b)"
      ],
      "metadata": {
        "colab": {
          "base_uri": "https://localhost:8080/"
        },
        "id": "xGFYuBOvcKyu",
        "outputId": "10caa78e-cf39-4c19-bd29-060d65ccd625"
      },
      "execution_count": null,
      "outputs": [
        {
          "output_type": "stream",
          "name": "stdout",
          "text": [
            "Equals =  True\n"
          ]
        }
      ]
    },
    {
      "cell_type": "markdown",
      "source": [
        "Question 3: Input two sets A and B. Write a python program using lists to find the union,\n",
        "intersection, difference of A and B"
      ],
      "metadata": {
        "id": "lIL9MBawcuNS"
      }
    },
    {
      "cell_type": "code",
      "source": [],
      "metadata": {
        "id": "lC1HtRv_dZDo"
      },
      "execution_count": null,
      "outputs": []
    },
    {
      "cell_type": "markdown",
      "source": [
        "**Question 4**: What will be the value 'counter' when the following code is run?"
      ],
      "metadata": {
        "id": "YalZYoljDQgS"
      }
    },
    {
      "cell_type": "code",
      "source": [
        "def counter(n1,n2,n3,n4,n5):\n",
        "  k=0\n",
        "  for i1 in range(1,n1+1):\n",
        "    for i2 in range(1, n2+1):\n",
        "      for i3 in range(1,n3+1):\n",
        "        for i4 in range(1,n4+1):\n",
        "          for i5 in range(1,n5+1):\n",
        "            k+=1\n",
        "  return k"
      ],
      "metadata": {
        "id": "QWxuTy4eDPvU"
      },
      "execution_count": null,
      "outputs": []
    },
    {
      "cell_type": "markdown",
      "source": [
        "**Question 5:** Predict the output of the following code."
      ],
      "metadata": {
        "id": "B3jV8SktEF1x"
      }
    },
    {
      "cell_type": "code",
      "source": [
        "#Listing permutations of 3 objects\n",
        "Numbers=[1,2,3,4,5]\n",
        "counter=0\n",
        "for i in Numbers:\n",
        "  for j in Numbers:\n",
        "    if j!=i:\n",
        "      for k in Numbers:\n",
        "        if k!=i and k!=j:\n",
        "          print(i,j,k)\n",
        "          counter=counter+1\n",
        "print(counter)"
      ],
      "metadata": {
        "colab": {
          "base_uri": "https://localhost:8080/"
        },
        "id": "uocII5WYFApo",
        "outputId": "fd12a419-0fea-42df-e15b-b24c250ae591"
      },
      "execution_count": null,
      "outputs": [
        {
          "output_type": "stream",
          "name": "stdout",
          "text": [
            "1 2 3\n",
            "1 2 4\n",
            "1 2 5\n",
            "1 3 2\n",
            "1 3 4\n",
            "1 3 5\n",
            "1 4 2\n",
            "1 4 3\n",
            "1 4 5\n",
            "1 5 2\n",
            "1 5 3\n",
            "1 5 4\n",
            "2 1 3\n",
            "2 1 4\n",
            "2 1 5\n",
            "2 3 1\n",
            "2 3 4\n",
            "2 3 5\n",
            "2 4 1\n",
            "2 4 3\n",
            "2 4 5\n",
            "2 5 1\n",
            "2 5 3\n",
            "2 5 4\n",
            "3 1 2\n",
            "3 1 4\n",
            "3 1 5\n",
            "3 2 1\n",
            "3 2 4\n",
            "3 2 5\n",
            "3 4 1\n",
            "3 4 2\n",
            "3 4 5\n",
            "3 5 1\n",
            "3 5 2\n",
            "3 5 4\n",
            "4 1 2\n",
            "4 1 3\n",
            "4 1 5\n",
            "4 2 1\n",
            "4 2 3\n",
            "4 2 5\n",
            "4 3 1\n",
            "4 3 2\n",
            "4 3 5\n",
            "4 5 1\n",
            "4 5 2\n",
            "4 5 3\n",
            "5 1 2\n",
            "5 1 3\n",
            "5 1 4\n",
            "5 2 1\n",
            "5 2 3\n",
            "5 2 4\n",
            "5 3 1\n",
            "5 3 2\n",
            "5 3 4\n",
            "5 4 1\n",
            "5 4 2\n",
            "5 4 3\n",
            "60\n"
          ]
        }
      ]
    },
    {
      "cell_type": "markdown",
      "source": [
        "**Question 6:** What is the purpose of the below function? Verify using python."
      ],
      "metadata": {
        "id": "rYHRqbtoEhqE"
      }
    },
    {
      "cell_type": "code",
      "source": [
        "#Counting Permutations\n",
        "def ProdCount(n,r):\n",
        "  product=namek=n-r\n",
        "  for i in range(n-r+1,n):\n",
        "    product=product*i\n",
        "  return product\n",
        "\n",
        "print(ProdCount(5,2))\n",
        "print(\"Purpose of the code is to teach about permutatiom of n=5 and r=2\")"
      ],
      "metadata": {
        "colab": {
          "base_uri": "https://localhost:8080/"
        },
        "id": "dl1m23kTFzPO",
        "outputId": "12467e28-9d99-4d18-eb3d-cea1663e6641"
      },
      "execution_count": null,
      "outputs": [
        {
          "output_type": "stream",
          "name": "stdout",
          "text": [
            "12\n",
            "Purpose of the code is to teach about permutatiom of n=5 and r=2\n"
          ]
        }
      ]
    },
    {
      "cell_type": "markdown",
      "source": [
        "**Question 7:** What is the purpose of the below function? Verify using python."
      ],
      "metadata": {
        "id": "aF_N6USPEvU2"
      }
    },
    {
      "cell_type": "code",
      "source": [
        "Numbers=[1,2,3,4,5]\n",
        "counter=0\n",
        "for i in Numbers:\n",
        "  for j in Numbers:\n",
        "    if j>i:\n",
        "      for k in Numbers:\n",
        "        if k>j:\n",
        "          print(i,j,k)\n",
        "          counter=counter+1\n",
        "print(counter)\n",
        "print('The purpose of the function is to teach in how may ways we can get combination of 3 numbers out of 5 in such a way that k>j>i')"
      ],
      "metadata": {
        "colab": {
          "base_uri": "https://localhost:8080/"
        },
        "id": "5akwXIiYGgaT",
        "outputId": "31197ee9-a421-4f8e-ea1c-b2112bbb6f51"
      },
      "execution_count": null,
      "outputs": [
        {
          "output_type": "stream",
          "name": "stdout",
          "text": [
            "1 2 3\n",
            "1 2 4\n",
            "1 2 5\n",
            "1 3 4\n",
            "1 3 5\n",
            "1 4 5\n",
            "2 3 4\n",
            "2 3 5\n",
            "2 4 5\n",
            "3 4 5\n",
            "10\n",
            "The purpose of the function is to teach in how may ways we can get combination of 3 numbers out of 5 in such a way that k>j>i\n"
          ]
        }
      ]
    }
  ]
}